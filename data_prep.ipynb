{
 "cells": [
  {
   "cell_type": "code",
   "execution_count": 76,
   "id": "8b7f6d05-4c27-4847-8cfb-ea81a2a3c029",
   "metadata": {},
   "outputs": [],
   "source": [
    "import pandas as pd"
   ]
  },
  {
   "cell_type": "code",
   "execution_count": 77,
   "id": "0fd1da78-bc45-4132-83bb-651de3b4d625",
   "metadata": {},
   "outputs": [],
   "source": [
    "input_path = \"/Users/somita/Pharmaceutical Drugs Image Detection/Pills Information Dataset.csv\"\n",
    "output_path = \"/Users/somita/Pharmaceutical Drugs Image Detection/cleaned_pills_info.csv\""
   ]
  },
  {
   "cell_type": "code",
   "execution_count": 78,
   "id": "325f613b-bcc5-45be-bdee-4640f9e7ff2e",
   "metadata": {},
   "outputs": [],
   "source": [
    "df = pd.read_csv(input_path, encoding='utf-8')\n",
    "df_t = df.T"
   ]
  },
  {
   "cell_type": "code",
   "execution_count": 79,
   "id": "807fb0f6-18f5-40e7-be17-e413249db825",
   "metadata": {},
   "outputs": [],
   "source": [
    "df_t.columns = df_t.iloc[0]  \n",
    "df_t = df_t.drop(df_t.index[0]) \n",
    "df_t = df_t.reset_index().rename(columns={'index': 'Original Pill Name'}) \n",
    "\n",
    "\n",
    "df_t['Original Pill Name'] = df_t['Original Pill Name'].str.strip()"
   ]
  },
  {
   "cell_type": "code",
   "execution_count": 80,
   "id": "4d8ac5c8-024c-432c-ae2e-25a2c689e018",
   "metadata": {},
   "outputs": [],
   "source": [
    "model_labels = [\n",
    "    'decolgen',\n",
    "    'fish oil',\n",
    "    'bactidol',\n",
    "    'kremil-s',\n",
    "    'biogesic',\n",
    "    'dayzinc',\n",
    "    'bioflu',\n",
    "    'neozep',\n",
    "    'alaxan',\n",
    "    'medicol'\n",
    "]\n"
   ]
  },
  {
   "cell_type": "code",
   "execution_count": 81,
   "id": "695be3fa-e575-4a1e-9f0e-2c122e3a6c6f",
   "metadata": {},
   "outputs": [],
   "source": [
    "info_names = [\n",
    "    \"Decolgen\",\n",
    "    \"Cardiclear Omega-3 Fish Oil\",\n",
    "    \"Bactidol Extra Soothing\",\n",
    "    \"Kremil-S\",\n",
    "    \"Biogesic\",\n",
    "    \"Dayzinc\",\n",
    "    \"Bioflu\",\n",
    "    \"Neozep Z+ Forte\",\n",
    "    \"Alaxan FR\",\n",
    "    \"Medicol Advance\"\n",
    "]"
   ]
  },
  {
   "cell_type": "code",
   "execution_count": 83,
   "id": "5fed5410-4602-43b2-bde4-2d4ea2d2fc36",
   "metadata": {},
   "outputs": [
    {
     "name": "stdout",
     "output_type": "stream",
     "text": [
      "Final pills info:\n",
      " Unnamed: 0 model_label           Original Pill Name\n",
      "0             decolgen                     Decolgen\n",
      "1             fish oil  Cardiclear Omega-3 Fish Oil\n",
      "2             bactidol      Bactidol Extra Soothing\n",
      "3             kremil-s                     Kremil-S\n",
      "4             biogesic                     Biogesic\n",
      "5              dayzinc                      Dayzinc\n",
      "6               bioflu                       Bioflu\n",
      "7               neozep              Neozep Z+ Forte\n",
      "8               alaxan                    Alaxan FR\n",
      "9              medicol              Medicol Advance\n"
     ]
    }
   ],
   "source": [
    "aligned_rows = []\n",
    "for model_label, info_name in zip(model_labels, info_names):\n",
    "    row = df_t[df_t['Original Pill Name'].str.strip().str.lower() == info_name.strip().lower()]\n",
    "    if not row.empty:\n",
    "        row = row.copy()\n",
    "        row['model_label'] = model_label \n",
    "        aligned_rows.append(row)\n",
    "    else:\n",
    "        print(f\" WARNING: Pill info not found for: {info_name}\")\n",
    "\n",
    "\n",
    "final_df = pd.concat(aligned_rows, ignore_index=True)\n",
    "\n",
    "\n",
    "final_df.to_csv(output_path, index=False)\n",
    "\n",
    "\n",
    "print(\"Final pills info:\\n\", final_df[['model_label', 'Original Pill Name']])\n"
   ]
  },
  {
   "cell_type": "code",
   "execution_count": 85,
   "id": "95ed07d9-ea5b-4ed0-b384-28c3a1cc5fe0",
   "metadata": {},
   "outputs": [
    {
     "name": "stdout",
     "output_type": "stream",
     "text": [
      "Columns in dataset: ['Original Pill Name', 'Generic Name', 'Formulation Type', 'Strength/Dosage', 'Manufacturer', 'Indications / Uses', 'Dosage Instructions', 'Side Effects', 'Contraindications', 'Imprint Code', 'Color and Shape', 'Warnings and Precautions', 'model_label']\n"
     ]
    }
   ],
   "source": [
    "df_c = pd.read_csv(\"cleaned_pills_info.csv\")\n",
    "print(\"Columns in dataset:\", df_c.columns.tolist())"
   ]
  },
  {
   "cell_type": "code",
   "execution_count": null,
   "id": "9045750a-4a19-41ab-9826-26e9c671c941",
   "metadata": {},
   "outputs": [],
   "source": []
  }
 ],
 "metadata": {
  "kernelspec": {
   "display_name": "Python [conda env:base] *",
   "language": "python",
   "name": "conda-base-py"
  },
  "language_info": {
   "codemirror_mode": {
    "name": "ipython",
    "version": 3
   },
   "file_extension": ".py",
   "mimetype": "text/x-python",
   "name": "python",
   "nbconvert_exporter": "python",
   "pygments_lexer": "ipython3",
   "version": "3.13.5"
  }
 },
 "nbformat": 4,
 "nbformat_minor": 5
}
